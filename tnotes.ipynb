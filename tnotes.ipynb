{
 "cells": [
  {
   "cell_type": "code",
   "execution_count": 1,
   "metadata": {},
   "outputs": [
    {
     "name": "stderr",
     "output_type": "stream",
     "text": [
      "2022-03-24 19:13:59.886726: W tensorflow/stream_executor/platform/default/dso_loader.cc:64] Could not load dynamic library 'libcudart.so.11.0'; dlerror: libcudart.so.11.0: cannot open shared object file: No such file or directory; LD_LIBRARY_PATH: /home/sarah/RPS/RPS-env/lib/python3.9/site-packages/cv2/../../lib64:\n",
      "2022-03-24 19:13:59.886753: I tensorflow/stream_executor/cuda/cudart_stub.cc:29] Ignore above cudart dlerror if you do not have a GPU set up on your machine.\n",
      "2022-03-24 19:14:01.304664: W tensorflow/stream_executor/platform/default/dso_loader.cc:64] Could not load dynamic library 'libcuda.so.1'; dlerror: libcuda.so.1: cannot open shared object file: No such file or directory; LD_LIBRARY_PATH: /home/sarah/RPS/RPS-env/lib/python3.9/site-packages/cv2/../../lib64:\n",
      "2022-03-24 19:14:01.304704: W tensorflow/stream_executor/cuda/cuda_driver.cc:269] failed call to cuInit: UNKNOWN ERROR (303)\n",
      "2022-03-24 19:14:01.304727: I tensorflow/stream_executor/cuda/cuda_diagnostics.cc:156] kernel driver does not appear to be running on this host (sarah-Lenovo-ideapad-530S-14IKB): /proc/driver/nvidia/version does not exist\n",
      "2022-03-24 19:14:01.305041: I tensorflow/core/platform/cpu_feature_guard.cc:151] This TensorFlow binary is optimized with oneAPI Deep Neural Network Library (oneDNN) to use the following CPU instructions in performance-critical operations:  AVX2 FMA\n",
      "To enable them in other operations, rebuild TensorFlow with the appropriate compiler flags.\n"
     ]
    },
    {
     "name": "stdout",
     "output_type": "stream",
     "text": [
      "WARNING:tensorflow:No training configuration found in the save file, so the model was *not* compiled. Compile it manually.\n"
     ]
    }
   ],
   "source": [
    "import cv2\n",
    "from keras.models import load_model\n",
    "import numpy as np\n",
    "import time\n",
    "import random\n",
    "\n",
    "model = load_model('keras_model_version_2.h5')\n",
    "cap = cv2.VideoCapture(0)\n",
    "data = np.ndarray(shape=(1, 224, 224, 3), dtype=np.float32)\n",
    "t_0 = time.time()\n",
    "\n",
    "while True: \n",
    "\n",
    "    def RPS_function(started = False, next_round = True, countdown = False, counter = 0, elapsed = 0 , round_time = 0, message = '', yourScore = 0, compScore = 0,round = 0):\n",
    "   \n",
    "        ret, frame = cap.read()\n",
    "        cv2.imshow('frame', frame)\n",
    "        print(time.time() - t_0)\n",
    "    \n",
    "        resized_frame = cv2.resize(frame, (224, 224), interpolation = cv2.INTER_AREA)\n",
    "        image_np = np.array(resized_frame)\n",
    "        normalized_image = (image_np.astype(np.float32) / 127.0) - 1 # Normalize the image\n",
    "        data[0] = normalized_image\n",
    "        predictionArray = model.predict(data)  \n",
    "        # Press q to close the window\n",
    "    \n",
    "    \n",
    "            #Set prediction values to Rock/Paper/Scissors\n",
    "        if predictionArray[0][0] > 0.75: \n",
    "                prediction = 'Rock'\n",
    "        elif predictionArray[0][1] > 0.75: \n",
    "                prediction = 'Paper'\n",
    "        elif predictionArray[0][2] > 0.75: \n",
    "                prediction = 'Scissors'\n",
    "        else: \n",
    "                prediction = 'Nothing'\n",
    "    \n",
    "    \n",
    "        if not started: \n",
    "                message = 'Press a to start'\n",
    "        if cv2.waitKey(33) == ord('a'):\n",
    "            if not started:\n",
    "                counter = time.time()\n",
    "                started = True\n",
    "                countdown = True\n",
    "                    \n",
    "        if started:\n",
    "            elapsed = 5 - (time.time()- counter)\n",
    "            if elapsed <= -4:\n",
    "                message = 'Press n to play next round'\n",
    "                if cv2.waitKey(33) == ord('n'):\n",
    "                    started = False \n",
    "                    elapsed = 0\n",
    "                    round += 1\n",
    "\n",
    "            elif elapsed <= 0 and round <= 3:\n",
    "                countdown = False \n",
    "                # prediction = 'Rock'\n",
    "                computer = random.choice(['Rock','Paper','Scissors'])\n",
    "                message = 'You showed {prediction} and the computer showed {computer}.'\n",
    "            \n",
    "                if prediction == 'Rock':\n",
    "                    if computer == 'Rock':\n",
    "                        message += \"It's a draw\"\n",
    "                        \n",
    "                    elif computer == 'Paper': \n",
    "                        message += 'Ah, tough luck'\n",
    "                        compScore += 1\n",
    "                        \n",
    "                    else: #  computer == 'Scissors': \n",
    "                        message += 'Fantastic, you won'\n",
    "                        yourScore += 1\n",
    "\n",
    "                elif prediction == 'Paper':\n",
    "                    if computer == 'Rock':\n",
    "                        message += 'Fantastic, you won'\n",
    "                        yourScore += 1\n",
    "                    \n",
    "                    elif computer == 'Paper': \n",
    "                        message += \"It's a draw\"\n",
    "\n",
    "                    else: #  computer == 'Scissors': \n",
    "                        message += 'Ah, tough luck'\n",
    "                        compScore += 1\n",
    "\n",
    "                elif prediction == 'Scissors':\n",
    "                    if computer == 'Rock':\n",
    "                        message += 'Ah, tough luck'\n",
    "                        compScore += 1\n",
    "\n",
    "                    elif computer == 'Paper': \n",
    "                        message += 'Fantastic, you won'\n",
    "                        yourScore += 1\n",
    "\n",
    "                    else: #  computer == 'Scissors': \n",
    "                        message += \"It's a draw\"\n",
    "                    \n",
    "        if round == 3:\n",
    "            message = 'The Score is {yourScore}: {compScore}'\n",
    "    \n",
    "    if cv2.waitKey(30) & 0xFF == ord('q'):\n",
    "        break\n",
    "            \n",
    "# After the loop release the cap object\n",
    "cap.release()\n",
    "# Destroy all the windows\n",
    "cv2.destroyAllWindows()"
   ]
  },
  {
   "cell_type": "code",
   "execution_count": null,
   "metadata": {},
   "outputs": [],
   "source": []
  },
  {
   "cell_type": "code",
   "execution_count": 2,
   "metadata": {},
   "outputs": [
    {
     "ename": "NameError",
     "evalue": "name 'time' is not defined",
     "output_type": "error",
     "traceback": [
      "\u001b[0;31m---------------------------------------------------------------------------\u001b[0m",
      "\u001b[0;31mNameError\u001b[0m                                 Traceback (most recent call last)",
      "\u001b[1;32m/home/sarah/Desktop/Rock_Paper_Scissors/tnotes.ipynb Cell 3'\u001b[0m in \u001b[0;36m<module>\u001b[0;34m\u001b[0m\n\u001b[0;32m----> <a href='vscode-notebook-cell:/home/sarah/Desktop/Rock_Paper_Scissors/tnotes.ipynb#ch0000001?line=0'>1</a>\u001b[0m t_0 \u001b[39m=\u001b[39m time\u001b[39m.\u001b[39mtime()\n\u001b[1;32m      <a href='vscode-notebook-cell:/home/sarah/Desktop/Rock_Paper_Scissors/tnotes.ipynb#ch0000001?line=1'>2</a>\u001b[0m \u001b[39mprint\u001b[39m(t_0)\n",
      "\u001b[0;31mNameError\u001b[0m: name 'time' is not defined"
     ]
    }
   ],
   "source": [
    "t_0 = time.time()\n",
    "print(t_0)"
   ]
  },
  {
   "cell_type": "code",
   "execution_count": null,
   "metadata": {},
   "outputs": [
    {
     "ename": "NameError",
     "evalue": "name 'time' is not defined",
     "output_type": "error",
     "traceback": [
      "\u001b[0;31m---------------------------------------------------------------------------\u001b[0m",
      "\u001b[0;31mNameError\u001b[0m                                 Traceback (most recent call last)",
      "\u001b[1;32m/home/sarah/Desktop/Rock_Paper_Scissors/tnotes.ipynb Cell 4'\u001b[0m in \u001b[0;36m<module>\u001b[0;34m\u001b[0m\n\u001b[0;32m----> <a href='vscode-notebook-cell:/home/sarah/Desktop/Rock_Paper_Scissors/tnotes.ipynb#ch0000002?line=0'>1</a>\u001b[0m time\u001b[39m.\u001b[39mtime()\n",
      "\u001b[0;31mNameError\u001b[0m: name 'time' is not defined"
     ]
    }
   ],
   "source": [
    "time.time()"
   ]
  }
 ],
 "metadata": {
  "interpreter": {
   "hash": "463e85e3e907e6471ca7e8a46d5c5b9dd80468d508f8baf1efdec84299acf396"
  },
  "kernelspec": {
   "display_name": "Python 3.9.7 ('tensorflow1-env')",
   "language": "python",
   "name": "python3"
  },
  "language_info": {
   "codemirror_mode": {
    "name": "ipython",
    "version": 3
   },
   "file_extension": ".py",
   "mimetype": "text/x-python",
   "name": "python",
   "nbconvert_exporter": "python",
   "pygments_lexer": "ipython3",
   "version": "3.9.7"
  },
  "orig_nbformat": 4
 },
 "nbformat": 4,
 "nbformat_minor": 2
}
