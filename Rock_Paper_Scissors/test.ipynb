{
 "cells": [
  {
   "cell_type": "code",
   "execution_count": 2,
   "metadata": {},
   "outputs": [
    {
     "ename": "TypeError",
     "evalue": "'builtin_function_or_method' object is not subscriptable",
     "output_type": "error",
     "traceback": [
      "\u001b[0;31m---------------------------------------------------------------------------\u001b[0m",
      "\u001b[0;31mTypeError\u001b[0m                                 Traceback (most recent call last)",
      "\u001b[1;32m/home/sarah/Desktop/Rock_Paper_Scissors/test.ipynb Cell 1'\u001b[0m in \u001b[0;36m<module>\u001b[0;34m\u001b[0m\n\u001b[1;32m      <a href='vscode-notebook-cell:/home/sarah/Desktop/Rock_Paper_Scissors/test.ipynb#ch0000000?line=0'>1</a>\u001b[0m age \u001b[39m=\u001b[39m \u001b[39m72\u001b[39m\n\u001b[1;32m      <a href='vscode-notebook-cell:/home/sarah/Desktop/Rock_Paper_Scissors/test.ipynb#ch0000000?line=1'>2</a>\u001b[0m age \u001b[39m=\u001b[39m \u001b[39m21\u001b[39m\n\u001b[0;32m----> <a href='vscode-notebook-cell:/home/sarah/Desktop/Rock_Paper_Scissors/test.ipynb#ch0000000?line=2'>3</a>\u001b[0m \u001b[39mprint\u001b[39;49m[age]\n",
      "\u001b[0;31mTypeError\u001b[0m: 'builtin_function_or_method' object is not subscriptable"
     ]
    }
   ],
   "source": [
    "age = 72\n",
    "age = 21\n",
    "print[age]"
   ]
  },
  {
   "cell_type": "code",
   "execution_count": 1,
   "metadata": {},
   "outputs": [
    {
     "name": "stderr",
     "output_type": "stream",
     "text": [
      "2022-02-28 19:36:12.176345: W tensorflow/stream_executor/platform/default/dso_loader.cc:64] Could not load dynamic library 'libcudart.so.11.0'; dlerror: libcudart.so.11.0: cannot open shared object file: No such file or directory; LD_LIBRARY_PATH: /home/sarah/miniconda3/envs/tensorflow1-env/lib/python3.9/site-packages/cv2/../../lib64:\n",
      "2022-02-28 19:36:12.176426: I tensorflow/stream_executor/cuda/cudart_stub.cc:29] Ignore above cudart dlerror if you do not have a GPU set up on your machine.\n",
      "2022-02-28 19:36:16.503245: W tensorflow/stream_executor/platform/default/dso_loader.cc:64] Could not load dynamic library 'libcuda.so.1'; dlerror: libcuda.so.1: cannot open shared object file: No such file or directory; LD_LIBRARY_PATH: /home/sarah/miniconda3/envs/tensorflow1-env/lib/python3.9/site-packages/cv2/../../lib64:\n",
      "2022-02-28 19:36:16.503279: W tensorflow/stream_executor/cuda/cuda_driver.cc:269] failed call to cuInit: UNKNOWN ERROR (303)\n",
      "2022-02-28 19:36:16.503305: I tensorflow/stream_executor/cuda/cuda_diagnostics.cc:156] kernel driver does not appear to be running on this host (sarah-Lenovo-ideapad-530S-14IKB): /proc/driver/nvidia/version does not exist\n",
      "2022-02-28 19:36:16.503629: I tensorflow/core/platform/cpu_feature_guard.cc:151] This TensorFlow binary is optimized with oneAPI Deep Neural Network Library (oneDNN) to use the following CPU instructions in performance-critical operations:  AVX2 FMA\n",
      "To enable them in other operations, rebuild TensorFlow with the appropriate compiler flags.\n"
     ]
    },
    {
     "name": "stdout",
     "output_type": "stream",
     "text": [
      "WARNING:tensorflow:No training configuration found in the save file, so the model was *not* compiled. Compile it manually.\n"
     ]
    },
    {
     "name": "stderr",
     "output_type": "stream",
     "text": [
      "[ WARN:0@13.426] global /io/opencv/modules/videoio/src/cap_v4l.cpp (889) open VIDEOIO(V4L2:/dev/video0): can't open camera by index\n"
     ]
    },
    {
     "ename": "error",
     "evalue": "OpenCV(4.5.5) /io/opencv/modules/imgproc/src/resize.cpp:4052: error: (-215:Assertion failed) !ssize.empty() in function 'resize'\n",
     "output_type": "error",
     "traceback": [
      "\u001b[0;31m---------------------------------------------------------------------------\u001b[0m",
      "\u001b[0;31merror\u001b[0m                                     Traceback (most recent call last)",
      "\u001b[1;32m/home/sarah/Desktop/Rock_Paper_Scissors/test.ipynb Cell 1'\u001b[0m in \u001b[0;36m<module>\u001b[0;34m\u001b[0m\n\u001b[1;32m      <a href='vscode-notebook-cell:/home/sarah/Desktop/Rock_Paper_Scissors/test.ipynb#ch0000000?line=7'>8</a>\u001b[0m \u001b[39mwhile\u001b[39;00m \u001b[39mTrue\u001b[39;00m: \n\u001b[1;32m      <a href='vscode-notebook-cell:/home/sarah/Desktop/Rock_Paper_Scissors/test.ipynb#ch0000000?line=8'>9</a>\u001b[0m     ret, frame \u001b[39m=\u001b[39m cap\u001b[39m.\u001b[39mread()\n\u001b[0;32m---> <a href='vscode-notebook-cell:/home/sarah/Desktop/Rock_Paper_Scissors/test.ipynb#ch0000000?line=9'>10</a>\u001b[0m     resized_frame \u001b[39m=\u001b[39m cv2\u001b[39m.\u001b[39;49mresize(frame, (\u001b[39m224\u001b[39;49m, \u001b[39m224\u001b[39;49m), interpolation \u001b[39m=\u001b[39;49m cv2\u001b[39m.\u001b[39;49mINTER_AREA)\n\u001b[1;32m     <a href='vscode-notebook-cell:/home/sarah/Desktop/Rock_Paper_Scissors/test.ipynb#ch0000000?line=10'>11</a>\u001b[0m     image_np \u001b[39m=\u001b[39m np\u001b[39m.\u001b[39marray(resized_frame)\n\u001b[1;32m     <a href='vscode-notebook-cell:/home/sarah/Desktop/Rock_Paper_Scissors/test.ipynb#ch0000000?line=11'>12</a>\u001b[0m     normalized_image \u001b[39m=\u001b[39m (image_np\u001b[39m.\u001b[39mastype(np\u001b[39m.\u001b[39mfloat32) \u001b[39m/\u001b[39m \u001b[39m127.0\u001b[39m) \u001b[39m-\u001b[39m \u001b[39m1\u001b[39m \u001b[39m# Normalize the image\u001b[39;00m\n",
      "\u001b[0;31merror\u001b[0m: OpenCV(4.5.5) /io/opencv/modules/imgproc/src/resize.cpp:4052: error: (-215:Assertion failed) !ssize.empty() in function 'resize'\n"
     ]
    }
   ],
   "source": []
  },
  {
   "cell_type": "code",
   "execution_count": 2,
   "metadata": {},
   "outputs": [
    {
     "name": "stdout",
     "output_type": "stream",
     "text": [
      "<built-in function time>\n"
     ]
    }
   ],
   "source": [
    "import time \n",
    "\n",
    "print(time.time)\n"
   ]
  }
 ],
 "metadata": {
  "interpreter": {
   "hash": "6bbe288e83e05fe392866e3a7eefbb3d2b44b7c35319494cf8100eedddb8bf72"
  },
  "kernelspec": {
   "display_name": "Python 3.9.7 ('tensorflow-env')",
   "language": "python",
   "name": "python3"
  },
  "language_info": {
   "codemirror_mode": {
    "name": "ipython",
    "version": 3
   },
   "file_extension": ".py",
   "mimetype": "text/x-python",
   "name": "python",
   "nbconvert_exporter": "python",
   "pygments_lexer": "ipython3",
   "version": "3.9.7"
  },
  "orig_nbformat": 4
 },
 "nbformat": 4,
 "nbformat_minor": 2
}
